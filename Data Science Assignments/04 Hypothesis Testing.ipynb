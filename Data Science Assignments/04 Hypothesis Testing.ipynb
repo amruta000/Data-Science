{
 "cells": [
  {
   "cell_type": "code",
   "execution_count": null,
   "id": "3342e3a1",
   "metadata": {},
   "outputs": [],
   "source": []
  },
  {
   "cell_type": "markdown",
   "id": "12669df8",
   "metadata": {},
   "source": [
    "***Bombay hospitality Ltd. operates a franchise model for producing exotic Norwegian dinners throughout New England. The operating cost for a franchise in a week (W) is given by the equation W = $1,000 + $5X, where X represents the number of units produced in a week. Recent feedback from restaurant owners suggests that this cost model may no longer be accurate, as their observed weekly operating costs are higher.***\n",
    "\n",
    "**Objective :** \n",
    "* To investigate the restaurant owners' claim about the increase in weekly operating costs using hypothesis testing.\n",
    "* **Data Provided:**\n",
    "  1. •\tThe theoretical weekly operating cost model: W = $1,000 + $5X.\n",
    "  2. •\tSample of 25 restaurants with a mean weekly cost of Rs. 3,050.\n",
    "  3. •\tNumber of units produced in a week (X) follows a normal distribution with a mean (μ) of 600 units and a standard deviation (σ) of 25 units."
   ]
  },
  {
   "cell_type": "markdown",
   "id": "a708e77d",
   "metadata": {},
   "source": [
    "#State the Hypothesis Statement\n",
    "- H0:The weekly operating cost model is accurate.(mu = 4000)\n",
    "- H1:The weekly operating cost model is not accurate, and the costs are higher. (mu > 4000)"
   ]
  },
  {
   "cell_type": "markdown",
   "id": "5459b9dd",
   "metadata": {},
   "source": [
    "**Z test Problem** (population standard deviation is given)"
   ]
  },
  {
   "cell_type": "code",
   "execution_count": 5,
   "id": "e2ba9c7e",
   "metadata": {},
   "outputs": [],
   "source": [
    "import numpy as np\n",
    "from scipy import stats"
   ]
  },
  {
   "cell_type": "code",
   "execution_count": 6,
   "id": "ca5c9b46",
   "metadata": {},
   "outputs": [],
   "source": [
    "## Given data \n",
    "sample_mean = 3050\n",
    "population_mean = 1000+ 5*600   # 4000\n",
    "population_std =5*25  #125\n",
    "sample_size = 25\n",
    "alpha = 0.05"
   ]
  },
  {
   "cell_type": "code",
   "execution_count": 7,
   "id": "31318c15",
   "metadata": {
    "scrolled": true
   },
   "outputs": [
    {
     "data": {
      "text/plain": [
       "-38.0"
      ]
     },
     "execution_count": 7,
     "metadata": {},
     "output_type": "execute_result"
    }
   ],
   "source": [
    "# using z test formula finding z score value\n",
    "z_score=((sample_mean-population_mean)/(population_std/np.sqrt(sample_size)))\n",
    "z_score"
   ]
  },
  {
   "cell_type": "code",
   "execution_count": 10,
   "id": "f2dc73ac",
   "metadata": {
    "scrolled": false
   },
   "outputs": [
    {
     "data": {
      "text/plain": [
       "0.0"
      ]
     },
     "execution_count": 10,
     "metadata": {},
     "output_type": "execute_result"
    }
   ],
   "source": [
    "# p value (Sample mean < population mean )\n",
    "p_value =stats.norm.cdf(z_score)\n",
    "p_value"
   ]
  },
  {
   "cell_type": "code",
   "execution_count": 11,
   "id": "9af49019",
   "metadata": {
    "scrolled": false
   },
   "outputs": [
    {
     "name": "stdout",
     "output_type": "stream",
     "text": [
      "Reject Null Hypothesis (H0)\n"
     ]
    }
   ],
   "source": [
    "# hypothesis test\n",
    "if p_value < alpha:\n",
    "    print(\"Reject Null Hypothesis (H0)\")\n",
    "else:\n",
    "    print(\"fail to reject Null Hypothesis(accept H1)\")"
   ]
  },
  {
   "cell_type": "code",
   "execution_count": 14,
   "id": "b48e44dd",
   "metadata": {
    "scrolled": true
   },
   "outputs": [
    {
     "data": {
      "text/plain": [
       "-1.6448536269514729"
      ]
     },
     "execution_count": 14,
     "metadata": {},
     "output_type": "execute_result"
    }
   ],
   "source": [
    "# critical value  (p value < alpha)\n",
    "critical_value = stats.norm.ppf(alpha)\n",
    "critical_value"
   ]
  },
  {
   "cell_type": "code",
   "execution_count": 15,
   "id": "a301cec8",
   "metadata": {
    "scrolled": true
   },
   "outputs": [
    {
     "name": "stdout",
     "output_type": "stream",
     "text": [
      "fail to reject Null Hypothesis(accept H1)\n"
     ]
    }
   ],
   "source": [
    "# Compare with critical value\n",
    "if z_score > critical_value:\n",
    "    print(\"Reject Null Hypothesis (H0)\")\n",
    "else:\n",
    "    print(\"fail to reject Null Hypothesis(accept H1)\")"
   ]
  }
 ],
 "metadata": {
  "kernelspec": {
   "display_name": "Python 3",
   "language": "python",
   "name": "python3"
  },
  "language_info": {
   "codemirror_mode": {
    "name": "ipython",
    "version": 3
   },
   "file_extension": ".py",
   "mimetype": "text/x-python",
   "name": "python",
   "nbconvert_exporter": "python",
   "pygments_lexer": "ipython3",
   "version": "3.8.8"
  },
  "varInspector": {
   "cols": {
    "lenName": 16,
    "lenType": 16,
    "lenVar": 40
   },
   "kernels_config": {
    "python": {
     "delete_cmd_postfix": "",
     "delete_cmd_prefix": "del ",
     "library": "var_list.py",
     "varRefreshCmd": "print(var_dic_list())"
    },
    "r": {
     "delete_cmd_postfix": ") ",
     "delete_cmd_prefix": "rm(",
     "library": "var_list.r",
     "varRefreshCmd": "cat(var_dic_list()) "
    }
   },
   "types_to_exclude": [
    "module",
    "function",
    "builtin_function_or_method",
    "instance",
    "_Feature"
   ],
   "window_display": false
  }
 },
 "nbformat": 4,
 "nbformat_minor": 5
}
