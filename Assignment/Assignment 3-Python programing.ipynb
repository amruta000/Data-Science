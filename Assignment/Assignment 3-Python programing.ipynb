{
 "cells": [
  {
   "cell_type": "markdown",
   "id": "45ca3524",
   "metadata": {},
   "source": [
    "# PYTHON PROGRAMMING ASSIGNMENT"
   ]
  },
  {
   "cell_type": "code",
   "execution_count": null,
   "id": "200d4a72",
   "metadata": {},
   "outputs": [],
   "source": []
  },
  {
   "cell_type": "markdown",
   "id": "96667a15",
   "metadata": {},
   "source": [
    "Exercise 1: Prime Numbers Write a Python program that checks whether a given number is prime or not.\n",
    "    A prime number is a natural number greater than 1 that has no positive divisors other than 1 and itself."
   ]
  },
  {
   "cell_type": "code",
   "execution_count": null,
   "id": "89a2f755",
   "metadata": {},
   "outputs": [],
   "source": [
    "#user input\n",
    "n=int(input())   \n",
    "# 1 is not prime number \n",
    "if n>1:\n",
    "    for i in range(2, n//2):\n",
    "        if n%i ==0:\n",
    "            print(n,' is not prime number')\n",
    "            break\n",
    "    else:\n",
    "        print(n,'is prime number')\n",
    "else:\n",
    "    print(n,'is not prime number')"
   ]
  },
  {
   "cell_type": "code",
   "execution_count": null,
   "id": "fc3c5ec2",
   "metadata": {},
   "outputs": [],
   "source": []
  },
  {
   "cell_type": "markdown",
   "id": "a803feb7",
   "metadata": {},
   "source": [
    "Exercise 2: Product of Random Numbers Develop a Python program that generates two random numbers and \n",
    "    asks the user to enter the product of these numbers.\n",
    "    The program should then check if the user's answer is correct and display an appropriate message. "
   ]
  },
  {
   "cell_type": "code",
   "execution_count": null,
   "id": "45c20988",
   "metadata": {},
   "outputs": [],
   "source": [
    "import random\n",
    "\n",
    "num1= random.randint(1,10)\n",
    "num2= random.randint(1,10)\n",
    "print('num1=',num1,'num2=',num2)\n",
    "correct_product=num1*num2\n",
    "user_product=int(input('Enter product of num1 and num2 = '))\n",
    "if correct_product == user_product:\n",
    "    print('Product is correct')\n",
    "else:\n",
    "    print(\"User product is Incorrect, Correct product is \", correct_product)"
   ]
  },
  {
   "cell_type": "code",
   "execution_count": null,
   "id": "0a8ed48c",
   "metadata": {},
   "outputs": [],
   "source": []
  },
  {
   "cell_type": "markdown",
   "id": "b4413008",
   "metadata": {},
   "source": [
    "Exercise 3: Squares of Even/Odd Numbers Create a Python script that prints the squares of all even or odd numbers within the range of 100 to 200. Choose either even or odd numbers and document your choice in the code."
   ]
  },
  {
   "cell_type": "code",
   "execution_count": null,
   "id": "9c535bba",
   "metadata": {
    "scrolled": false
   },
   "outputs": [],
   "source": [
    "def square_of_even_number(s_range,e_range):\n",
    "    for num in range(s_range, e_range + 1):\n",
    "        if num % 2 == 0:\n",
    "            print(f\"{num}^2: \", num ** 2)\n",
    "            \n",
    "square_of_even_number(100, 200)\n"
   ]
  },
  {
   "cell_type": "code",
   "execution_count": null,
   "id": "dfa8dc07",
   "metadata": {},
   "outputs": [],
   "source": []
  },
  {
   "cell_type": "markdown",
   "id": "ef05b877",
   "metadata": {},
   "source": [
    " Exercise 4: Word counter write a program to count the number of words in a given text. example: input_text = \"This is a sample text. This text will be used to demonstrate the word counter.\" Expected output: 'This': 2 'is': 1 'a': 1 'sample': 1 'text.': 1"
   ]
  },
  {
   "cell_type": "code",
   "execution_count": null,
   "id": "18144680",
   "metadata": {
    "scrolled": true
   },
   "outputs": [],
   "source": [
    "input_text = input()\n",
    "print(input_text)\n",
    "\n",
    "countOfWords=len(input_text.split())\n",
    "print(countOfWords)"
   ]
  },
  {
   "cell_type": "code",
   "execution_count": null,
   "id": "5f7a0b2e",
   "metadata": {},
   "outputs": [],
   "source": []
  },
  {
   "cell_type": "markdown",
   "id": "189828fb",
   "metadata": {},
   "source": [
    "Exercise 5: Check for Palindrome Write a Python function called is_palindrome that takes a string as input and returns True if the string is a palindrome, and False otherwise. A palindrome is a word, phrase, number, or other sequence of characters that reads the same forward and backward, ignoring spaces, punctuation, and capitalization. Example: Input: \"racecar\" Expected Output: True"
   ]
  },
  {
   "cell_type": "code",
   "execution_count": null,
   "id": "790e7cc4",
   "metadata": {},
   "outputs": [],
   "source": [
    "s = input(\"input text:\")\n",
    "reverse_s =s[::-1]\n",
    "\n",
    "if s==reverse_s:\n",
    "    print(s,\" is palindrome\")\n",
    "else:\n",
    "    print(s,\"is not palindrome\")"
   ]
  },
  {
   "cell_type": "code",
   "execution_count": null,
   "id": "b5e5d4cf",
   "metadata": {},
   "outputs": [],
   "source": []
  }
 ],
 "metadata": {
  "kernelspec": {
   "display_name": "Python 3",
   "language": "python",
   "name": "python3"
  },
  "language_info": {
   "codemirror_mode": {
    "name": "ipython",
    "version": 3
   },
   "file_extension": ".py",
   "mimetype": "text/x-python",
   "name": "python",
   "nbconvert_exporter": "python",
   "pygments_lexer": "ipython3",
   "version": "3.8.8"
  },
  "varInspector": {
   "cols": {
    "lenName": 16,
    "lenType": 16,
    "lenVar": 40
   },
   "kernels_config": {
    "python": {
     "delete_cmd_postfix": "",
     "delete_cmd_prefix": "del ",
     "library": "var_list.py",
     "varRefreshCmd": "print(var_dic_list())"
    },
    "r": {
     "delete_cmd_postfix": ") ",
     "delete_cmd_prefix": "rm(",
     "library": "var_list.r",
     "varRefreshCmd": "cat(var_dic_list()) "
    }
   },
   "types_to_exclude": [
    "module",
    "function",
    "builtin_function_or_method",
    "instance",
    "_Feature"
   ],
   "window_display": false
  }
 },
 "nbformat": 4,
 "nbformat_minor": 5
}
